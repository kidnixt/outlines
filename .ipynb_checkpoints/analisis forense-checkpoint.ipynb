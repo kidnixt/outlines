{
 "cells": [
  {
   "cell_type": "code",
   "execution_count": 1,
   "id": "82ffcb34",
   "metadata": {},
   "outputs": [],
   "source": [
    "from transformers import AutoModelForCausalLM\n",
    "from transformers import AutoTokenizer\n",
    "import torch\n",
    "from outlines.models.transformers import Transformers\n"
   ]
  },
  {
   "cell_type": "code",
   "execution_count": 2,
   "id": "8e4832db",
   "metadata": {},
   "outputs": [],
   "source": [
    "def get_gpt2_model_and_tokenizer():\n",
    "    torch.manual_seed(42)\n",
    "\n",
    "    device = \"cuda\" if torch.cuda.is_available() else \"cpu\"\n",
    "    model_id = \"gpt2\"\n",
    "\n",
    "    tokenizer = AutoTokenizer.from_pretrained(model_id, use_fast=True, add_prefix_space=True)\n",
    "    model = AutoModelForCausalLM.from_pretrained(model_id,\n",
    "                                                return_dict_in_generate=True,\n",
    "                                                pad_token_id=tokenizer.eos_token_id).to(device)\n",
    "                                                \n",
    "    return model_id, model, tokenizer, device"
   ]
  },
  {
   "cell_type": "code",
   "execution_count": 3,
   "id": "7c4222b9",
   "metadata": {},
   "outputs": [
    {
     "name": "stdout",
     "output_type": "stream",
     "text": [
      "Estoy en el init\n"
     ]
    }
   ],
   "source": [
    "model_id, model, tokenizer, device = get_gpt2_model_and_tokenizer()\n",
    "outlinesModel = Transformers(model, tokenizer)"
   ]
  },
  {
   "cell_type": "code",
   "execution_count": 5,
   "id": "98f375a6",
   "metadata": {},
   "outputs": [],
   "source": [
    "from outlines.generate.regex import regex\n",
    "\n",
    "prompt = \" \"\n",
    "outlinesGenerator = outlines.generate.regex(outlinesModel, \"\\.[0-9]\")\n"
   ]
  },
  {
   "cell_type": "code",
   "execution_count": null,
   "id": "81acb0cd",
   "metadata": {},
   "outputs": [],
   "source": []
  }
 ],
 "metadata": {
  "kernelspec": {
   "display_name": "Python 3 (ipykernel)",
   "language": "python",
   "name": "python3"
  },
  "language_info": {
   "codemirror_mode": {
    "name": "ipython",
    "version": 3
   },
   "file_extension": ".py",
   "mimetype": "text/x-python",
   "name": "python",
   "nbconvert_exporter": "python",
   "pygments_lexer": "ipython3",
   "version": "3.9.7"
  }
 },
 "nbformat": 4,
 "nbformat_minor": 5
}
